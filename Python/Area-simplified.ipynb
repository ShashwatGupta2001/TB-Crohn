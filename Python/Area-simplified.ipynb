{
 "cells": [
  {
   "cell_type": "code",
   "execution_count": 1,
   "metadata": {},
   "outputs": [],
   "source": [
    "import cv2\n",
    "import numpy as np\n",
    "import math\n",
    "import matplotlib.pyplot as plt"
   ]
  },
  {
   "cell_type": "code",
   "execution_count": 2,
   "metadata": {},
   "outputs": [],
   "source": [
    "def line_iter(start, end):\n",
    "    x0, y0 = start\n",
    "    x1, y1 = end\n",
    "    dx = abs(x1 - x0)\n",
    "    dy = abs(y1 - y0)\n",
    "    sx = 1 if x0 < x1 else -1\n",
    "    sy = 1 if y0 < y1 else -1\n",
    "    err = dx - dy\n",
    "    while True:\n",
    "        yield (x0, y0)\n",
    "        if x0 == x1 and y0 == y1:\n",
    "            break\n",
    "        e2 = 2 * err\n",
    "        if e2 > -dy:\n",
    "            err -= dy\n",
    "            x0 += sx\n",
    "        if e2 < dx:\n",
    "            err += dx\n",
    "            y0 += sy\n",
    "\n",
    "\n",
    "def find_last_point(img, start, end):\n",
    "    last_black_point = None\n",
    "    last_white_point = None\n",
    "    answer=None\n",
    "    for x, y in line_iter(start, end):\n",
    "        if 0 <= x < img.shape[1] and 0 <= y < img.shape[0]:\n",
    "            if img[y, x] == 0:\n",
    "                last_black_point = (x, y)\n",
    "            elif last_black_point and img[y, x] != 0:  # Check for a white point after the last black point\n",
    "                answer=last_black_point\n",
    "            \n",
    "            if img[y,x] == 255:\n",
    "                last_white_point = (x,y)\n",
    "    return answer, last_white_point\n",
    "\n",
    "\n",
    "def compute_areas(img):\n",
    "    height, width = img.shape[:2]\n",
    "    center= (int(width/2), int(height/2))\n",
    "    subcut_area = 0\n",
    "    for angle in np.arange(0, 360, granular_degree):\n",
    "        theta = np.deg2rad(angle)\n",
    "        end_x = int(center[0] + math.cos(theta) * width)\n",
    "        end_y = int(center[1] + math.sin(theta) * height)\n",
    "        bk,wh = find_last_point(img, center, (end_x, end_y))\n",
    "        if bk and wh:\n",
    "            subcut_area +=  0.5*((wh[0]-center[0])**2 +  (wh[1]-center[1])**2 - (bk[0]-center[0])**2 - (bk[1]-center[1])**2) * np.deg2rad(granular_degree)\n",
    "    return subcut_area\n",
    "\n",
    "\n",
    "def compute_white_area(img):\n",
    "    total = 0\n",
    "    for x in img:\n",
    "        for y in x:\n",
    "            if y==255:\n",
    "                total+=1\n",
    "    return total\n",
    "\n"
   ]
  },
  {
   "cell_type": "code",
   "execution_count": 4,
   "metadata": {},
   "outputs": [
    {
     "name": "stdout",
     "output_type": "stream",
     "text": [
      "/Users/shashwatgupta/Library/CloudStorage/OneDrive-Personal/Stuff/Academics@IIT Kanpur/8th Semester Courses/UGP/Assingment/CV Algorithm Code/TB-Crohn\n"
     ]
    }
   ],
   "source": [
    "!pwd"
   ]
  },
  {
   "cell_type": "code",
   "execution_count": 5,
   "metadata": {},
   "outputs": [
    {
     "name": "stdout",
     "output_type": "stream",
     "text": [
      "Ratio :  0.2951235072821905\n"
     ]
    }
   ],
   "source": [
    "img_path = './Images/A.jpeg'\n",
    "img = cv2.imread(img_path)\n",
    "granular_degree = 0.05\n",
    "\n",
    "kernel = np.ones((3,3),np.uint8)\n",
    "thresh = cv2.dilate(cv2.erode(img,kernel,iterations = 1),kernel,iterations = 1)\n",
    "img = cv2.cvtColor(thresh, cv2.COLOR_BGR2GRAY)\n",
    "\n",
    "subcut_area = compute_areas(img)\n",
    "total_area=compute_white_area(img)\n",
    "\n",
    "ratio = (total_area / subcut_area) - 1\n",
    "print(\"Ratio : \",ratio)"
   ]
  },
  {
   "cell_type": "code",
   "execution_count": null,
   "metadata": {},
   "outputs": [],
   "source": []
  }
 ],
 "metadata": {
  "kernelspec": {
   "display_name": "ee604",
   "language": "python",
   "name": "python3"
  },
  "language_info": {
   "codemirror_mode": {
    "name": "ipython",
    "version": 3
   },
   "file_extension": ".py",
   "mimetype": "text/x-python",
   "name": "python",
   "nbconvert_exporter": "python",
   "pygments_lexer": "ipython3",
   "version": "3.10.13"
  }
 },
 "nbformat": 4,
 "nbformat_minor": 2
}
